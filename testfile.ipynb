{
 "cells": [
  {
   "cell_type": "markdown",
   "id": "12a57391",
   "metadata": {},
   "source": [
    "# Test slider graph"
   ]
  },
  {
   "cell_type": "code",
   "execution_count": null,
   "id": "7a47ffeb",
   "metadata": {},
   "outputs": [
    {
     "data": {
      "application/vnd.jupyter.widget-view+json": {
       "model_id": "3e6a5e5252a944b6875a4040145eb84c",
       "version_major": 2,
       "version_minor": 0
      },
      "text/plain": [
       "interactive(children=(IntSlider(value=0, description='Hoek θ (°)', max=360), Output()), _dom_classes=('widget-…"
      ]
     },
     "metadata": {},
     "output_type": "display_data"
    }
   ],
   "source": [
    "#%pip install ipywidgets\n",
    "\n",
    "import numpy as np\n",
    "import matplotlib.pyplot as plt\n",
    "from ipywidgets import IntSlider, interact\n",
    "from matplotlib.lines import Line2D\n",
    "\n",
    "\n",
    "\n",
    "\n",
    "# Updatefunctie\n",
    "def update(theta_deg):\n",
    "    \n",
    "    # Voorbereiding van figuur en plots\n",
    "    plt.figure(figsize=(6, 6))\n",
    "    plt.xlim(-1.2, 1.2)\n",
    "    plt.ylim(-1.2, 1.2)\n",
    "    plt.title(\"Eenheidscirkel met hoek θ\")\n",
    "    plt.grid(True)\n",
    "    plt.axhline(0, color='black', linewidth=0.5)\n",
    "    plt.axvline(0, color='black', linewidth=0.5)\n",
    "\n",
    "    # Eenheidscirkel\n",
    "    circle_theta = np.linspace(0, 2 * np.pi, 1000)\n",
    "    circle_x = np.cos(circle_theta)\n",
    "    circle_y = np.sin(circle_theta)\n",
    "    plt.plot(circle_x, circle_y, 'lightgray')\n",
    "\n",
    "\n",
    "    # Lijnen en objecten die we gaan updaten\n",
    "    line_OP, = plt.plot([], [], 'r-', linewidth=2)\n",
    "    arc_line, = plt.plot([], [], 'b--', linewidth=2)\n",
    "    angle_arc, = plt.plot([], [], 'g-', linewidth=1.5)\n",
    "    point_P, = plt.plot([], [], 'ro')\n",
    "\n",
    "    # Teksten die we updaten\n",
    "    text_P = plt.text(0, 0, '', fontsize=12, color='red')\n",
    "    text_deg = plt.text(0, 0, '', fontsize=10, color='green', ha='center')\n",
    "    text_rad = plt.text(0, 0, '', fontsize=10, color='blue', ha='center')\n",
    "\n",
    "    # Extra vaste labels\n",
    "    plt.text(1.05, 0, 'x', fontsize=12)\n",
    "    plt.text(0, 1.05, 'y', fontsize=12)\n",
    "    plt.text(-0.1, -0.1, 'O', fontsize=12)\n",
    "\n",
    "\n",
    "    theta_rad = np.radians(theta_deg)\n",
    "    x = np.cos(theta_rad)\n",
    "    y = np.sin(theta_rad)\n",
    "\n",
    "    # Update lijn OP\n",
    "    line_OP.set_data([0, x], [0, y])\n",
    "\n",
    "    # Update boog\n",
    "    arc_theta = np.linspace(0, theta_rad, 300)\n",
    "    arc_line.set_data(np.cos(arc_theta), np.sin(arc_theta))\n",
    "\n",
    "    # Hoekboogje\n",
    "    angle_arc_theta = np.linspace(0, theta_rad, 100)\n",
    "    angle_arc_r = 0.3\n",
    "    angle_arc.set_data(angle_arc_r * np.cos(angle_arc_theta),\n",
    "                       angle_arc_r * np.sin(angle_arc_theta))\n",
    "\n",
    "    # Punt P\n",
    "    point_P.set_data([x], [y])\n",
    "    text_P.set_position((x + 0.05 * np.sign(x), y + 0.05 * np.sign(y)))\n",
    "    text_P.set_text(\"P\")\n",
    "\n",
    "    # Hoeklabels\n",
    "    text_deg.set_position((0.35 * np.cos(theta_rad / 2), 0.35 * np.sin(theta_rad / 2)))\n",
    "    text_deg.set_text(f\"θ = {theta_deg}°\")\n",
    "\n",
    "    text_rad.set_position((0.5 * np.cos(theta_rad / 2), 0.5 * np.sin(theta_rad / 2)))\n",
    "    text_rad.set_text(f\"{round(theta_rad, 2)} rad\")\n",
    "\n",
    "    # Titel\n",
    "    plt.title(f\"θ = {theta_deg}° = {round(theta_rad, 2)} rad\")\n",
    "\n",
    " \n",
    "\n",
    "# Interactieve slider\n",
    "interact(update, theta_deg=IntSlider(min=0, max=360, step=1, value=0, description=\"Hoek θ (°)\"));"
   ]
  },
  {
   "cell_type": "code",
   "execution_count": null,
   "id": "036d30e4",
   "metadata": {},
   "outputs": [],
   "source": []
  }
 ],
 "metadata": {
  "kernelspec": {
   "display_name": "base",
   "language": "python",
   "name": "python3"
  },
  "language_info": {
   "codemirror_mode": {
    "name": "ipython",
    "version": 3
   },
   "file_extension": ".py",
   "mimetype": "text/x-python",
   "name": "python",
   "nbconvert_exporter": "python",
   "pygments_lexer": "ipython3",
   "version": "3.10.14"
  }
 },
 "nbformat": 4,
 "nbformat_minor": 5
}
