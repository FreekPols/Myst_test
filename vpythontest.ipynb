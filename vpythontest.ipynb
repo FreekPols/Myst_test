{
 "cells": [
  {
   "cell_type": "markdown",
   "id": "df32039b",
   "metadata": {},
   "source": [
    "---\n",
    "numbering:\n",
    "  title:\n",
    "    enabled: false\n",
    "    \n",
    "---\n",
    "# VPYTHON TEST"
   ]
  },
  {
   "cell_type": "code",
   "execution_count": null,
   "id": "85f8852b",
   "metadata": {},
   "outputs": [],
   "source": [
    "#Web VPython 3.2\n",
    "%pip install vpython\n",
    "from vpython import *\n",
    "\n",
    "R = 0.01\n",
    "bA = sphere(pos=vector(-8*R,0.75*R,0),radius=R, color=color.yellow, make_trail=True)\n",
    "bB = sphere(pos=vector(0,0,0),radius=R, color=color.cyan, make_trail=True)\n",
    "bA.m = 1\n",
    "bB.m = 1\n",
    "v0 = 0.05\n",
    "bA.p = bA.m*vector(v0,0,0)\n",
    "bB.p = bB.m*vector(0,0,0)\n",
    "\n",
    "t = 0\n",
    "dt = 0.01\n",
    "k = 500\n",
    "while t<3:\n",
    "  rate(100)\n",
    "  r = bA.pos - bB.pos\n",
    "  F = vector(0,0,0)\n",
    "  if mag(r)<2*R:\n",
    "    F = k*(2*R-mag(r))*norm(r)\n",
    "  bA.p = bA.p + F*dt\n",
    "  bB.p = bB.p - F*dt\n",
    "  bA.pos = bA.pos + bA.p*dt/bA.m\n",
    "  bB.pos = bB.pos + bB.p*dt/bB.m\n",
    "  t = t + dt"
   ]
  }
 ],
 "metadata": {
  "kernelspec": {
   "display_name": "base",
   "language": "python",
   "name": "python3"
  },
  "language_info": {
   "name": "python",
   "version": "3.10.14"
  }
 },
 "nbformat": 4,
 "nbformat_minor": 5
}
