{
 "cells": [
  {
   "cell_type": "markdown",
   "id": "e433ef4b",
   "metadata": {},
   "source": [
    "---\n",
    "title: test colab\n",
    "\n",
    "site:\n",
    "  actions:\n",
    "    - title: colab\n",
    "      url: https://colab.research.google.com/FreekPols/Myst_test/blob/main/test100.ipynb\n",
    "---\n"
   ]
  },
  {
   "cell_type": "markdown",
   "id": "16522fcd",
   "metadata": {
    "vscode": {
     "languageId": "plaintext"
    }
   },
   "source": [
    "[URL](https://colab.research.google.com/FreekPols/Myst_test/blob/main/test100.ipynb)"
   ]
  },
  {
   "cell_type": "markdown",
   "id": "ed26e5d0",
   "metadata": {},
   "source": []
  },
  {
   "cell_type": "code",
   "execution_count": null,
   "id": "226514b1",
   "metadata": {
    "vscode": {
     "languageId": "plaintext"
    }
   },
   "outputs": [],
   "source": [
    "import numpy as numpy\n",
    "print(np.linspace(0,1,10))"
   ]
  }
 ],
 "metadata": {
  "language_info": {
   "name": "python"
  }
 },
 "nbformat": 4,
 "nbformat_minor": 5
}
